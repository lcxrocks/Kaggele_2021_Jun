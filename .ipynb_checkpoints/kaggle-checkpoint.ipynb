{
 "cells": [
  {
   "cell_type": "code",
   "execution_count": 1,
   "metadata": {},
   "outputs": [],
   "source": [
    "import pandas as pd"
   ]
  },
  {
   "cell_type": "code",
   "execution_count": 2,
   "metadata": {},
   "outputs": [],
   "source": [
    "df = pd.read_csv(\"train.csv\")"
   ]
  },
  {
   "cell_type": "code",
   "execution_count": 3,
   "metadata": {},
   "outputs": [
    {
     "data": {
      "text/plain": [
       "Class_2    57497\n",
       "Class_3    21420\n",
       "Class_4    12593\n",
       "Class_1     8490\n",
       "Name: target, dtype: int64"
      ]
     },
     "execution_count": 3,
     "metadata": {},
     "output_type": "execute_result"
    }
   ],
   "source": [
    "strs = df['target'].value_counts()\n",
    "strs"
   ]
  },
  {
   "cell_type": "code",
   "execution_count": 4,
   "metadata": {},
   "outputs": [
    {
     "data": {
      "text/plain": [
       "{'Class_1': 0, 'Class_2': 1, 'Class_3': 2, 'Class_4': 3}"
      ]
     },
     "execution_count": 4,
     "metadata": {},
     "output_type": "execute_result"
    }
   ],
   "source": [
    "value_map = dict((v, i) for i,v in enumerate(strs.index))\n",
    "value_map = {'Class_1': 0, 'Class_2': 1, 'Class_3': 2, 'Class_4': 3}\n",
    "value_map"
   ]
  },
  {
   "cell_type": "code",
   "execution_count": 5,
   "metadata": {},
   "outputs": [],
   "source": [
    "df = df.replace({'target':value_map})\n",
    "df = df.drop(columns=['id'])\n",
    "x_train = df.iloc[:, :-1]\n",
    "y_train = df['target']"
   ]
  },
  {
   "cell_type": "code",
   "execution_count": 23,
   "metadata": {},
   "outputs": [],
   "source": [
    "df = pd.read_csv(\"test.csv\")\n",
    "# df = df.drop(columns=['id'])\n",
    "x_test = df.iloc[:, 1:] # keep the id column for output"
   ]
  },
  {
   "cell_type": "code",
   "execution_count": 13,
   "metadata": {},
   "outputs": [],
   "source": [
    "from sklearn.ensemble import RandomForestClassifier\n",
    "from deepforest import CascadeForestClassifier\n",
    "from sklearn.metrics import accuracy_score"
   ]
  },
  {
   "cell_type": "code",
   "execution_count": 16,
   "metadata": {},
   "outputs": [
    {
     "name": "stdout",
     "output_type": "stream",
     "text": [
      "[2021-05-12 11:11:12.736] Start to fit the model:\n",
      "[2021-05-12 11:11:12.736] Fitting cascade layer = 0 \n",
      "[2021-05-12 11:12:44.301] layer = 0  | Val Acc = 57.650 % | Elapsed = 91.565 s\n",
      "[2021-05-12 11:12:44.851] Fitting cascade layer = 1 \n",
      "[2021-05-12 11:14:59.732] layer = 1  | Val Acc = 57.697 % | Elapsed = 134.880 s\n",
      "[2021-05-12 11:15:00.364] Fitting cascade layer = 2 \n",
      "[2021-05-12 11:17:19.017] layer = 2  | Val Acc = 57.637 % | Elapsed = 138.653 s\n",
      "[2021-05-12 11:17:19.018] Early stopping counter: 1 out of 2\n",
      "[2021-05-12 11:17:19.680] Fitting cascade layer = 3 \n",
      "[2021-05-12 11:19:39.945] layer = 3  | Val Acc = 57.602 % | Elapsed = 140.265 s\n",
      "[2021-05-12 11:19:39.945] Early stopping counter: 2 out of 2\n",
      "[2021-05-12 11:19:39.945] Handling early stopping\n",
      "[2021-05-12 11:19:40.173] The optimal number of layers: 2\n",
      "[2021-05-12 11:19:40.357] Start to evalute the model:\n",
      "[2021-05-12 11:19:40.427] Evaluating cascade layer = 0 \n",
      "[2021-05-12 11:19:50.697] Evaluating cascade layer = 1 \n"
     ]
    }
   ],
   "source": [
    "model = CascadeForestClassifier(n_jobs=2, n_estimators=4, n_trees=100)\n",
    "model.fit(x_train.values, y_train.values)\n",
    "y_pred = model.predict(x_test.values)"
   ]
  },
  {
   "cell_type": "code",
   "execution_count": 18,
   "metadata": {},
   "outputs": [
    {
     "name": "stdout",
     "output_type": "stream",
     "text": [
      "[2021-05-12 11:21:36.596] Start to evalute the model:\n",
      "[2021-05-12 11:21:36.668] Evaluating cascade layer = 0 \n",
      "[2021-05-12 11:21:47.057] Evaluating cascade layer = 1 \n"
     ]
    }
   ],
   "source": [
    "proba = model.predict_proba(x_test.values)\n",
    "output = pd.DataFrame({'id': x_test.index, 'Class_1': proba[:,0], 'Class_2':proba[:,1], 'Class_3':proba[:,2], 'Class_4':proba[:,3]})\n",
    "output.to_csv('my_submission.csv', index=False)"
   ]
  },
  {
   "cell_type": "code",
   "execution_count": 20,
   "metadata": {},
   "outputs": [],
   "source": [
    "df = pd.read_csv(\"test.csv\")\n",
    "output = pd.DataFrame({'id': df['id'], 'Class_1': proba[:,0], 'Class_2':proba[:,1], 'Class_3':proba[:,2], 'Class_4':proba[:,3]})\n",
    "output.to_csv('my_submission.csv', index=False)"
   ]
  },
  {
   "cell_type": "code",
   "execution_count": null,
   "metadata": {},
   "outputs": [],
   "source": []
  },
  {
   "cell_type": "code",
   "execution_count": 24,
   "metadata": {},
   "outputs": [],
   "source": [
    "model = RandomForestClassifier(n_jobs=2, n_estimators=500)\n",
    "model.fit(x_train, y_train)\n",
    "proba = model.predict_proba(x_test)\n",
    "# acc = accuracy_score(y_test, y_pred) * 100\n",
    "# print(\"\\nTesting Accuracy: {:.3f} %\".format(acc))\n",
    "output = pd.DataFrame({'id': df['id'], 'Class_1': proba[:,0], 'Class_2':proba[:,1], 'Class_3':proba[:,2], 'Class_4':proba[:,3]})\n",
    "output.to_csv('my_submission_rf.csv', index=False)"
   ]
  }
 ],
 "metadata": {
  "kernelspec": {
   "display_name": "Python 3",
   "language": "python",
   "name": "python3"
  },
  "language_info": {
   "codemirror_mode": {
    "name": "ipython",
    "version": 3
   },
   "file_extension": ".py",
   "mimetype": "text/x-python",
   "name": "python",
   "nbconvert_exporter": "python",
   "pygments_lexer": "ipython3",
   "version": "3.8.8"
  }
 },
 "nbformat": 4,
 "nbformat_minor": 2
}
